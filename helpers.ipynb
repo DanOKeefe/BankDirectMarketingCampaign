{
 "cells": [
  {
   "cell_type": "code",
   "execution_count": 1,
   "metadata": {
    "collapsed": true
   },
   "outputs": [],
   "source": [
    "def createJobColumns(df):\n",
    "    \n",
    "    df['admin.'] = pd.Series(df['job'].values, index=df.index)\n",
    "    df['admin.'] = df['admin.'].map({'admin.': 1, 'blue-collar': 0, 'entrepreneur': 0,\n",
    "                                     'housemaid': 0, 'management': 0, 'retired': 0,\n",
    "                                     'self-employed': 0, 'services': 0, 'student': 0,\n",
    "                                     'technician': 0, 'unemployed': 0, 'unknown': 0})\n",
    "    df['blue-collar'] = pd.Series(df['job'].values, index=df.index)\n",
    "    df['blue-collar'] = df['blue-collar'].map({'admin.': 0, 'blue-collar': 1, 'entrepreneur': 0,\n",
    "                                     'housemaid': 0, 'management': 0, 'retired': 0,\n",
    "                                     'self-employed': 0, 'services': 0, 'student': 0,\n",
    "                                     'technician': 0, 'unemployed': 0, 'unknown': 0})\n",
    "    df['entrepreneur'] = pd.Series(df['job'].values, index=df.index)\n",
    "    df['entrepreneur'] = df['entrepreneur'].map({'admin.': 0, 'blue-collar': 0, 'entrepreneur': 1,\n",
    "                                     'housemaid': 0, 'management': 0, 'retired': 0,\n",
    "                                     'self-employed': 0, 'services': 0, 'student': 0,\n",
    "                                     'technician': 0, 'unemployed': 0, 'unknown': 0})\n",
    "    df['housemaid'] = pd.Series(df['job'].values, index=df.index)\n",
    "    df['housemaid'] = df['housemaid'].map({'admin.': 0, 'blue-collar': 0, 'entrepreneur': 0,\n",
    "                                     'housemaid': 1, 'management': 0, 'retired': 0,\n",
    "                                     'self-employed': 0, 'services': 0, 'student': 0,\n",
    "                                     'technician': 0, 'unemployed': 0, 'unknown': 0})\n",
    "    df['management'] = pd.Series(df['job'].values, index=df.index)\n",
    "    df['management'] = df['management'].map({'admin.': 0, 'blue-collar': 0, 'entrepreneur': 0,\n",
    "                                     'housemaid': 0, 'management': 1, 'retired': 0,\n",
    "                                     'self-employed': 0, 'services': 0, 'student': 0,\n",
    "                                     'technician': 0, 'unemployed': 0, 'unknown': 0})\n",
    "    df['retired'] = pd.Series(df['job'].values, index=df.index)\n",
    "    df['retired'] = df['retired'].map({'admin.': 0, 'blue-collar': 0, 'entrepreneur': 0,\n",
    "                                     'housemaid': 0, 'management': 0, 'retired': 1,\n",
    "                                     'self-employed': 0, 'services': 0, 'student': 0,\n",
    "                                     'technician': 0, 'unemployed': 0, 'unknown': 0})\n",
    "    df['self-employed'] = pd.Series(df['job'].values, index=df.index)\n",
    "    df['self-employed'] = df['self-employed'].map({'admin.': 0, 'blue-collar': 0, 'entrepreneur': 0,\n",
    "                                     'housemaid': 0, 'management': 0, 'retired': 0,\n",
    "                                     'self-employed': 1, 'services': 0, 'student': 0,\n",
    "                                     'technician': 0, 'unemployed': 0, 'unknown': 0})\n",
    "    df['services'] = pd.Series(df['job'].values, index=df.index)\n",
    "    df['services'] = df['services'].map({'admin.': 0, 'blue-collar': 0, 'entrepreneur': 0,\n",
    "                                     'housemaid': 0, 'management': 0, 'retired': 0,\n",
    "                                     'self-employed': 0, 'services': 1, 'student': 0,\n",
    "                                     'technician': 0, 'unemployed': 0, 'unknown': 0})\n",
    "    df['student'] = pd.Series(df['job'].values, index=df.index)\n",
    "    df['student'] = df['student'].map({'admin.': 0, 'blue-collar': 0, 'entrepreneur': 0,\n",
    "                                     'housemaid': 0, 'management': 0, 'retired': 0,\n",
    "                                     'self-employed': 0, 'services': 0, 'student': 1,\n",
    "                                     'technician': 0, 'unemployed': 0, 'unknown': 0})\n",
    "    df['technician'] = pd.Series(df['job'].values, index=df.index)\n",
    "    df['technician'] = df['technician'].map({'admin.': 0, 'blue-collar': 0, 'entrepreneur': 0,\n",
    "                                     'housemaid': 0, 'management': 0, 'retired': 0,\n",
    "                                     'self-employed': 0, 'services': 0, 'student': 0,\n",
    "                                     'technician': 1, 'unemployed': 0, 'unknown': 0})\n",
    "    df['unemployed'] = pd.Series(df['job'].values, index=df.index)\n",
    "    df['unemployed'] = df['unemployed'].map({'admin.': 0, 'blue-collar': 0, 'entrepreneur': 0,\n",
    "                                     'housemaid': 0, 'management': 0, 'retired': 0,\n",
    "                                     'self-employed': 0, 'services': 0, 'student': 0,\n",
    "                                     'technician': 0, 'unemployed': 1, 'unknown': 0})\n",
    "    df['unknown'] = pd.Series(df['job'].values, index=df.index)\n",
    "    df['unknown'] = df['unknown'].map({'admin.': 0, 'blue-collar': 0, 'entrepreneur': 0,\n",
    "                                     'housemaid': 0, 'management': 0, 'retired': 0,\n",
    "                                     'self-employed': 0, 'services': 0, 'student': 0,\n",
    "                                     'technician': 0, 'unemployed': 0, 'unknown': 1})\n",
    "    return(df)\n"
   ]
  },
  {
   "cell_type": "code",
   "execution_count": 2,
   "metadata": {
    "collapsed": true
   },
   "outputs": [],
   "source": [
    "def createMaritalColumns(df):\n",
    "    \n",
    "    df['single'] = pd.Series(df['marital'].values, index=df.index)\n",
    "    df['single'] = df['single'].map({'single': 1, 'married': 0,\n",
    "                                    'divorced': 0, 'unknown': 0})\n",
    "    df['married'] = pd.Series(df['marital'].values, index=df.index)\n",
    "    df['married'] = df['married'].map({'single': 0, 'married': 1,\n",
    "                                    'divorced': 0, 'unknown': 0})\n",
    "    df['divorced'] = pd.Series(df['marital'].values, index=df.index)\n",
    "    df['divorced'] = df['divorced'].map({'single': 0, 'married': 0,\n",
    "                                    'divorced': 1, 'unknown': 0})\n",
    "    df['unknown'] = pd.Series(df['marital'].values, index=df.index)\n",
    "    df['unknown'] = df['unknown'].map({'single': 0, 'married': 0,\n",
    "                                    'divorced': 0, 'unknown': 1})\n",
    "    return df"
   ]
  },
  {
   "cell_type": "code",
   "execution_count": 3,
   "metadata": {
    "collapsed": true
   },
   "outputs": [],
   "source": [
    "def createEducationColumns(df):\n",
    "    df['basic.4y'] = pd.Series(df['education'].values, index=df.index)\n",
    "    df['basic.4y'] = df['basic.4y'].map({'basic.4y': 1, 'basic.6y': 0, 'high.school': 0,\n",
    "                                           'basic.9y': 0, 'illiterate': 0, 'professional.course': 0,\n",
    "                                           'university.degree': 0, 'unknown': 0})\n",
    "    df['basic.6y'] = pd.Series(df['education'].values, index=df.index)\n",
    "    df['basic.6y'] = df['basic.6y'].map({'basic.4y': 0, 'basic.6y': 1, 'high.school': 0,\n",
    "                                           'basic.9y': 0, 'illiterate': 0, 'professional.course': 0,\n",
    "                                           'university.degree': 0, 'unknown': 0})\n",
    "    df['high.school'] = pd.Series(df['education'].values, index=df.index)\n",
    "    df['high.school'] = df['high.school'].map({'basic.4y': 0, 'basic.6y': 0, 'high.school': 1,\n",
    "                                           'basic.9y': 0, 'illiterate': 0, 'professional.course': 0,\n",
    "                                           'university.degree': 0, 'unknown': 0})\n",
    "    df['basic.9y'] = pd.Series(df['education'].values, index=df.index)\n",
    "    df['basic.9y'] = df['basic.9y'].map({'basic.4y': 0, 'basic.6y': 0, 'high.school': 0,\n",
    "                                           'basic.9y': 1, 'illiterate': 0, 'professional.course': 0,\n",
    "                                           'university.degree': 0, 'unknown': 0})\n",
    "    df['illiterate'] = pd.Series(df['education'].values, index=df.index)\n",
    "    df['illiterate'] = df['illiterate'].map({'basic.4y': 0, 'basic.6y': 0, 'high.school': 0,\n",
    "                                           'basic.9y':0, 'illiterate': 1, 'professional.course': 0,\n",
    "                                           'university.degree': 0, 'unknown': 0})\n",
    "    df['professional.course'] = pd.Series(df['education'].values, index=df.index)\n",
    "    df['professional.course'] = df['professional.course'].map({'basic.4y': 0, 'basic.6y': 0, 'high.school': 0,\n",
    "                                           'basic.9y':0, 'illiterate': 0, 'professional.course': 1,\n",
    "                                           'university.degree': 0, 'unknown': 0})\n",
    "    df['university.degree'] = pd.Series(df['education'].values, index=df.index)\n",
    "    df['university.degree'] = df['university.degree'].map({'basic.4y': 0, 'basic.6y': 0, 'high.school': 0,\n",
    "                                           'basic.9y':0, 'illiterate': 0, 'professional.course': 0,\n",
    "                                           'university.degree': 1, 'unknown': 0})\n",
    "    df['unknown'] = pd.Series(df['education'].values, index=df.index)\n",
    "    df['unknown'] = df['unknown'].map({'basic.4y': 0, 'basic.6y': 0, 'high.school': 0,\n",
    "                                           'basic.9y':0, 'illiterate': 0, 'professional.course': 0,\n",
    "                                           'university.degree': 0, 'unknown': 1})\n",
    "    return df"
   ]
  },
  {
   "cell_type": "code",
   "execution_count": 4,
   "metadata": {
    "collapsed": true
   },
   "outputs": [],
   "source": [
    "def createPOutcomeColumns(df):\n",
    "    df['Psuccess'] = pd.Series(df['poutcome'].values, index=df.index)\n",
    "    df['Psuccess'] = df['Psuccess'].map({'success': 1, 'failure': 0,\n",
    "                                    'nonexistent': 0})\n",
    "    df['Pfailure'] = pd.Series(df['poutcome'].values, index=df.index)\n",
    "    df['Pfailure'] = df['Pfailure'].map({'success': 0, 'failure': 1,\n",
    "                                    'nonexistent': 0})\n",
    "    df['Pnonexistent'] = pd.Series(df['poutcome'].values, index=df.index)\n",
    "    df['Pnonexistent'] = df['Pnonexistent'].map({'success': 0, 'failure': 0,\n",
    "                                    'nonexistent': 1})\n",
    "    return df"
   ]
  },
  {
   "cell_type": "code",
   "execution_count": null,
   "metadata": {
    "collapsed": true
   },
   "outputs": [],
   "source": []
  }
 ],
 "metadata": {
  "kernelspec": {
   "display_name": "Python 3",
   "language": "python",
   "name": "python3"
  },
  "language_info": {
   "codemirror_mode": {
    "name": "ipython",
    "version": 3
   },
   "file_extension": ".py",
   "mimetype": "text/x-python",
   "name": "python",
   "nbconvert_exporter": "python",
   "pygments_lexer": "ipython3",
   "version": "3.6.1"
  }
 },
 "nbformat": 4,
 "nbformat_minor": 2
}
